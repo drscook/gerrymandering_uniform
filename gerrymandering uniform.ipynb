{
 "cells": [
  {
   "cell_type": "code",
   "execution_count": 1,
   "metadata": {},
   "outputs": [
    {
     "data": {
      "application/javascript": [
       "IPython.OutputArea.auto_scroll_threshold = 9999;"
      ],
      "text/plain": [
       "<IPython.core.display.Javascript object>"
      ]
     },
     "metadata": {},
     "output_type": "display_data"
    }
   ],
   "source": [
    "%%javascript\n",
    "IPython.OutputArea.auto_scroll_threshold = 9999;"
   ]
  },
  {
   "cell_type": "code",
   "execution_count": 3,
   "metadata": {},
   "outputs": [
    {
     "data": {
      "application/vnd.jupyter.widget-view+json": {
       "model_id": "f9e9429d16a94fb498bc91efad36ce54",
       "version_major": 2,
       "version_minor": 0
      },
      "text/html": [
       "<p>Failed to display Jupyter Widget of type <code>VBox</code>.</p>\n",
       "<p>\n",
       "  If you're reading this message in the Jupyter Notebook or JupyterLab Notebook, it may mean\n",
       "  that the widgets JavaScript is still loading. If this message persists, it\n",
       "  likely means that the widgets JavaScript library is either not installed or\n",
       "  not enabled. See the <a href=\"https://ipywidgets.readthedocs.io/en/stable/user_install.html\">Jupyter\n",
       "  Widgets Documentation</a> for setup instructions.\n",
       "</p>\n",
       "<p>\n",
       "  If you're reading this message in another frontend (for example, a static\n",
       "  rendering on GitHub or <a href=\"https://nbviewer.jupyter.org/\">NBViewer</a>),\n",
       "  it may mean that your frontend doesn't currently support widgets.\n",
       "</p>\n"
      ],
      "text/plain": [
       "VBox(children=(IntSlider(value=10000, continuous_update=False, description='Total Pop', max=100000, min=100, step=100), IntSlider(value=50, continuous_update=False, description='Blue %'), IntSlider(value=64, continuous_update=False, description='Rand Seed', min=1), Output()))"
      ]
     },
     "metadata": {},
     "output_type": "display_data"
    }
   ],
   "source": [
    "import numpy as np\n",
    "import matplotlib.pyplot as plt\n",
    "import ipywidgets as widgets\n",
    "import pandas as pd\n",
    "pd.set_option('display.max_rows', None)\n",
    "%matplotlib inline\n",
    "def disp(X):\n",
    "    display(pd.DataFrame(X))\n",
    "\n",
    "\n",
    "def call_election(total_pop=10000, blue_pct=60, seed=42):\n",
    "    rnd = np.random.RandomState(seed)\n",
    "    blue = {'clr':'blue', 'pct':blue_pct}\n",
    "    red  = {'clr':'red',  'pct': 100 - blue_pct}\n",
    "    d = 10\n",
    "    num_districts = d**2\n",
    "\n",
    "    fig, ax = plt.subplots()\n",
    "    df = pd.DataFrame()\n",
    "    dot_size = 1000*d**2 / total_pop**1.3\n",
    "    for c in [blue, red]:\n",
    "        c['pop'] = round(total_pop * c['pct'] / 100)\n",
    "        c['loc'] = rnd.uniform(0, d, size=(2,c['pop']))\n",
    "        ax.scatter(*c['loc'], s = dot_size, color=c['clr'])\n",
    "        c['dist_pop'] = np.zeros([d, d], int)\n",
    "        for i,j in zip(*np.floor(c['loc']).astype(int)):\n",
    "            c['dist_pop'][i,j] += 1\n",
    "        df[c['clr']] = c['dist_pop'].ravel()\n",
    "\n",
    "    for x in np.arange(0,d+1):\n",
    "        ax.plot([x,x],[0,d], color='black')\n",
    "    for y in np.arange(0,d+1):\n",
    "        ax.plot([0,d],[y,y], color='black')\n",
    "    plt.show()\n",
    "    # plt.close()\n",
    "\n",
    "    df['pop'] = df['blue'] + df['red']\n",
    "    D = df['blue'] - df['red']\n",
    "    df['diff'] = D \n",
    "    df['diff pct'] = D / df['pop'] * 100\n",
    "    df.loc[D > 0,'winner'] = 'blue'\n",
    "    df.loc[D < 0,'winner'] = 'red'\n",
    "    df.loc[D ==0,'winner'] = 'tie'\n",
    "    df.sort_values('diff pct', inplace=True)\n",
    "\n",
    "    win = pd.DataFrame(df['winner'].value_counts(normalize=True, sort=True).round(3)*100)\n",
    "    win.columns = ['districts won']\n",
    "    win['pop pct'] = df[['blue','red']].sum()/df['pop'].sum()*100\n",
    "    disp(win)\n",
    "    \n",
    "#     disp(df['diff pct'].describe())\n",
    "    print('Average difference = {:.1f}%'.format(df['diff pct'].mean()))\n",
    "    disp(df.round(3))\n",
    "\n",
    "\n",
    "\n",
    "\n",
    "total_pop_slider = widgets.IntSlider(min=100, max=100000, step=100, value=10000, description='Total Pop', continuous_update=False)\n",
    "blue_pct_slider = widgets.IntSlider(min=0, max=100, value=50, description='Blue %', continuous_update=False)\n",
    "seed_slider = widgets.IntSlider(min=1, max=100, value=64, description='Rand Seed', continuous_update=False)\n",
    "\n",
    "img = widgets.interactive_output(call_election, {'total_pop':total_pop_slider, 'blue_pct':blue_pct_slider, 'seed':seed_slider})\n",
    "widgets.VBox([total_pop_slider, blue_pct_slider, seed_slider, img])"
   ]
  }
 ],
 "metadata": {
  "kernelspec": {
   "display_name": "Python 3",
   "language": "python",
   "name": "python3"
  },
  "language_info": {
   "codemirror_mode": {
    "name": "ipython",
    "version": 3
   },
   "file_extension": ".py",
   "mimetype": "text/x-python",
   "name": "python",
   "nbconvert_exporter": "python",
   "pygments_lexer": "ipython3",
   "version": "3.6.4"
  }
 },
 "nbformat": 4,
 "nbformat_minor": 2
}
